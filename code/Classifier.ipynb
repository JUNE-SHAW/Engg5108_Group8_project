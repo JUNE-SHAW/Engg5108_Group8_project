{
 "cells": [
  {
   "cell_type": "code",
   "execution_count": 7,
   "metadata": {
    "collapsed": true
   },
   "outputs": [],
   "source": [
    "import Data_preprocessing\n",
    "import Feature_selection\n",
    "import numpy as np\n",
    "import pickle\n",
    "import matplotlib as plt\n",
    "from sklearn.pipeline import Pipeline\n",
    "from sklearn.naive_bayes import MultinomialNB\n",
    "from sklearn.linear_model import  LogisticRegression\n",
    "from sklearn import svm\n",
    "from sklearn.ensemble import RandomForestClassifier\n",
    "from sklearn.model_selection import KFold\n",
    "from sklearn.metrics import confusion_matrix, f1_score, classification_report\n",
    "from sklearn.linear_model import SGDClassifier\n",
    "from sklearn.model_selection import GridSearchCV\n",
    "from sklearn.feature_extraction.text import TfidfVectorizer\n",
    "from sklearn.model_selection import learning_curve"
   ]
  },
  {
   "cell_type": "code",
   "execution_count": null,
   "metadata": {
    "collapsed": true
   },
   "outputs": [],
   "source": [
    "#Using Bag of words features"
   ]
  },
  {
   "cell_type": "code",
   "execution_count": 36,
   "metadata": {},
   "outputs": [
    {
     "data": {
      "text/plain": [
       "0.6072128577028616"
      ]
     },
     "execution_count": 36,
     "metadata": {},
     "output_type": "execute_result"
    }
   ],
   "source": [
    "#Building Naive Bayes Classifier\n",
    "NB_pipeline=Pipeline([('NBvectorizer',Feature_selection.vectorizer),\n",
    "                      ('NBclassifier',MultinomialNB())])\n",
    "#NB_pipeline.fit(Data_preprocessing.train_news['Statement'],Data_preprocessing.train_news['Label'])\n",
    "#predicted_NB=NB_pipeline.predict(Data_preprocessing.test_news['Statement'])\n",
    "#np.mean(predicted_NB==Data_preprocessing.test_news['Label'])"
   ]
  },
  {
   "cell_type": "code",
   "execution_count": 37,
   "metadata": {},
   "outputs": [
    {
     "data": {
      "text/plain": [
       "0.59858878871030963"
      ]
     },
     "execution_count": 37,
     "metadata": {},
     "output_type": "execute_result"
    }
   ],
   "source": [
    "#Building Logistic Regression Classifier\n",
    "LR_pipeline=Pipeline([('LRvectorizer',Feature_selection.vectorizer),\n",
    "                      ('LRclassifier',LogisticRegression())])\n",
    "#LR_pipeline.fit(Data_preprocessing.train_news['Statement'],Data_preprocessing.train_news['Label'])\n",
    "#predicted_LR=LR_pipeline.predict(Data_preprocessing.test_news['Statement'])\n",
    "#np.mean(predicted_LR==Data_preprocessing.test_news['Label'])"
   ]
  },
  {
   "cell_type": "code",
   "execution_count": 38,
   "metadata": {},
   "outputs": [
    {
     "data": {
      "text/plain": [
       "0.57232457859662877"
      ]
     },
     "execution_count": 38,
     "metadata": {},
     "output_type": "execute_result"
    }
   ],
   "source": [
    "#Building Linear SVM Classifier\n",
    "SVM_pipeline=Pipeline([('SVMvectorizer',Feature_selection.vectorizer),\n",
    "                       ('SVMclassifier',svm.LinearSVC())])\n",
    "#SVM_pipeline.fit(Data_preprocessing.train_news['Statement'],Data_preprocessing.train_news['Label'])\n",
    "#predicted_SVM=SVM_pipeline.predict(Data_preprocessing.test_news['Statement'])\n",
    "#np.mean(predicted_SVM==Data_preprocessing.test_news['Label'])"
   ]
  },
  {
   "cell_type": "code",
   "execution_count": 105,
   "metadata": {},
   "outputs": [
    {
     "data": {
      "text/plain": [
       "0.60329282634261072"
      ]
     },
     "execution_count": 105,
     "metadata": {},
     "output_type": "execute_result"
    }
   ],
   "source": [
    "#Building Linear SGD Classifier\n",
    "SGD_pipeline=Pipeline([('SGDvectorizer',Feature_selection.vectorizer),\n",
    "                       ('SGDclassifier',SGDClassifier(loss='hinge',alpha=1e-3,max_iter=5))])\n",
    "#SGD_pipeline.fit(Data_preprocessing.train_news['Statement'],Data_preprocessing.train_news['Label'])\n",
    "#predicted_SGD=SGD_pipeline.predict(Data_preprocessing.test_news['Statement'])\n",
    "#np.mean(predicted_SGD==Data_preprocessing.test_news['Label'])"
   ]
  },
  {
   "cell_type": "code",
   "execution_count": 45,
   "metadata": {},
   "outputs": [
    {
     "data": {
      "text/plain": [
       "0.61858094864758917"
      ]
     },
     "execution_count": 45,
     "metadata": {},
     "output_type": "execute_result"
    }
   ],
   "source": [
    "#Building Random Foreset Classifier\n",
    "RF_pipeline=Pipeline([('RFvectorizer',Feature_selection.vectorizer),\n",
    "                      ('RFclassifier',RandomForestClassifier(n_estimators=200,n_jobs=3))])\n",
    "#RF_pipeline.fit(Data_preprocessing.train_news['Statement'],Data_preprocessing.train_news['Label'])\n",
    "#predicted_RF=RF_pipeline.predict(Data_preprocessing.test_news['Statement'])\n",
    "#np.mean(predicted_RF==Data_preprocessing.test_news['Label'])"
   ]
  },
  {
   "cell_type": "code",
   "execution_count": 59,
   "metadata": {
    "collapsed": true
   },
   "outputs": [],
   "source": [
    "#Improve performance by using K-Fold Cross Validation\n",
    "#Build Confusion Matrix to analysis the performance of different Classifiers\n",
    "def build_confusion_matrix(classifier,split_num):\n",
    "    k_fold=KFold(n_splits=split_num)\n",
    "    scores=[]\n",
    "    Confusion_Matrix=[[0,0],[0,0]]\n",
    "    for train_ind,test_ind in k_fold.split(Data_preprocessing.train_news):\n",
    "        train_text=Data_preprocessing.train_news.iloc[train_ind]['Statement']\n",
    "        train_y=Data_preprocessing.train_news.iloc[train_ind]['Label']\n",
    "        test_text=Data_preprocessing.train_news.iloc[test_ind]['Statement']\n",
    "        test_y=Data_preprocessing.train_news.iloc[test_ind]['Label']\n",
    "        classifier.fit(train_text,train_y)\n",
    "        predictions=classifier.predict(test_text)\n",
    "        Confusion_Matrix+=confusion_matrix(test_y,predictions)\n",
    "        scores.append(f1_score(test_y,predictions))\n",
    "    return (print('Total statements classified:', len(Data_preprocessing.train_news)),\n",
    "            print('Score:', sum(scores)/len(scores)),\n",
    "            print('score length', len(scores)),\n",
    "            print('Confusion matrix:'),\n",
    "            print(Confusion_Matrix))\n",
    "#build_confusion_matrix(classifier,split_num)"
   ]
  },
  {
   "cell_type": "code",
   "execution_count": 72,
   "metadata": {},
   "outputs": [
    {
     "name": "stdout",
     "output_type": "stream",
     "text": [
      "Total statements classified: 10240\n",
      "Score: 0.675071936487\n",
      "score length 7\n",
      "Confusion matrix:\n",
      "[[2130 2358]\n",
      " [1619 4133]]\n"
     ]
    },
    {
     "data": {
      "text/plain": [
       "(None, None, None, None, None)"
      ]
     },
     "execution_count": 72,
     "metadata": {},
     "output_type": "execute_result"
    }
   ],
   "source": [
    "#build_confusion_matrix(NB_pipeline,7)"
   ]
  },
  {
   "cell_type": "code",
   "execution_count": 79,
   "metadata": {},
   "outputs": [
    {
     "name": "stdout",
     "output_type": "stream",
     "text": [
      "Total statements classified: 10240\n",
      "Score: 0.647679059498\n",
      "score length 6\n",
      "Confusion matrix:\n",
      "[[2230 2258]\n",
      " [1915 3837]]\n"
     ]
    },
    {
     "data": {
      "text/plain": [
       "(None, None, None, None, None)"
      ]
     },
     "execution_count": 79,
     "metadata": {},
     "output_type": "execute_result"
    }
   ],
   "source": [
    "#build_confusion_matrix(LR_pipeline,6)"
   ]
  },
  {
   "cell_type": "code",
   "execution_count": 84,
   "metadata": {},
   "outputs": [
    {
     "name": "stdout",
     "output_type": "stream",
     "text": [
      "Total statements classified: 10240\n",
      "Score: 0.614367797118\n",
      "score length 7\n",
      "Confusion matrix:\n",
      "[[2249 2239]\n",
      " [2208 3544]]\n"
     ]
    },
    {
     "data": {
      "text/plain": [
       "(None, None, None, None, None)"
      ]
     },
     "execution_count": 84,
     "metadata": {},
     "output_type": "execute_result"
    }
   ],
   "source": [
    "#build_confusion_matrix(SVM_pipeline,7)"
   ]
  },
  {
   "cell_type": "code",
   "execution_count": 85,
   "metadata": {},
   "outputs": [
    {
     "name": "stdout",
     "output_type": "stream",
     "text": [
      "Total statements classified: 10240\n",
      "Score: 0.703094560493\n",
      "score length 6\n",
      "Confusion matrix:\n",
      "[[1812 2676]\n",
      " [1183 4569]]\n"
     ]
    },
    {
     "data": {
      "text/plain": [
       "(None, None, None, None, None)"
      ]
     },
     "execution_count": 85,
     "metadata": {},
     "output_type": "execute_result"
    }
   ],
   "source": [
    "#build_confusion_matrix(RF_pipeline,6)"
   ]
  },
  {
   "cell_type": "code",
   "execution_count": null,
   "metadata": {
    "collapsed": true
   },
   "outputs": [],
   "source": [
    "#Using N-grams"
   ]
  },
  {
   "cell_type": "code",
   "execution_count": 124,
   "metadata": {},
   "outputs": [
    {
     "data": {
      "text/plain": [
       "0.59388475107800864"
      ]
     },
     "execution_count": 124,
     "metadata": {},
     "output_type": "execute_result"
    }
   ],
   "source": [
    "#Building Naive Bayes Classifier\n",
    "NB_pipeline_ngram=Pipeline([('NBnvectorizer',Feature_selection.tfidf_ngram),\n",
    "                      ('NBnclassifier',MultinomialNB())])\n",
    "#NB_pipeline_ngram.fit(Data_preprocessing.train_news['Statement'],Data_preprocessing.train_news['Label'])\n",
    "#predicted_NB_ngram=NB_pipeline_ngram.predict(Data_preprocessing.test_news['Statement'])\n",
    "#np.mean(predicted_NB_ngram==Data_preprocessing.test_news['Label'])"
   ]
  },
  {
   "cell_type": "code",
   "execution_count": 3,
   "metadata": {},
   "outputs": [
    {
     "data": {
      "text/plain": [
       "0.61936495491963939"
      ]
     },
     "execution_count": 3,
     "metadata": {},
     "output_type": "execute_result"
    }
   ],
   "source": [
    "#Building Logistic Regression Classifier\n",
    "LR_pipeline_ngram=Pipeline([('LRnvectorizer',Feature_selection.tfidf_ngram),\n",
    "                      ('LRnclassifier',LogisticRegression(penalty=\"l2\",C=1))])\n",
    "LR_pipeline_ngram.fit(Data_preprocessing.train_news['Statement'],Data_preprocessing.train_news['Label'])\n",
    "predicted_LR_ngram=LR_pipeline_ngram.predict(Data_preprocessing.test_news['Statement'])\n",
    "np.mean(predicted_LR_ngram==Data_preprocessing.test_news['Label'])"
   ]
  },
  {
   "cell_type": "code",
   "execution_count": 94,
   "metadata": {},
   "outputs": [
    {
     "data": {
      "text/plain": [
       "0.61701293610348884"
      ]
     },
     "execution_count": 94,
     "metadata": {},
     "output_type": "execute_result"
    }
   ],
   "source": [
    "#Building Linear SVM Classifier\n",
    "SVM_pipeline_ngram=Pipeline([('SVMvectorizer',Feature_selection.tfidf_ngram),\n",
    "                       ('SVMclassifier',svm.LinearSVC())])\n",
    "#SVM_pipeline_ngram.fit(Data_preprocessing.train_news['Statement'],Data_preprocessing.train_news['Label'])\n",
    "#predicted_SVM_ngram=SVM_pipeline_ngram.predict(Data_preprocessing.test_news['Statement'])\n",
    "#np.mean(predicted_SVM_ngram==Data_preprocessing.test_news['Label'])"
   ]
  },
  {
   "cell_type": "code",
   "execution_count": 130,
   "metadata": {},
   "outputs": [
    {
     "data": {
      "text/plain": [
       "0.54174833398667188"
      ]
     },
     "execution_count": 130,
     "metadata": {},
     "output_type": "execute_result"
    }
   ],
   "source": [
    "#Building Linear SGD Classifier\n",
    "SGD_pipeline_ngram=Pipeline([('SGDvectorizer',Feature_selection.tfidf_ngram),\n",
    "                       ('SGDclassifier',SGDClassifier(loss='hinge',alpha=1e-3,max_iter=5))])\n",
    "#SGD_pipeline_ngram.fit(Data_preprocessing.train_news['Statement'],Data_preprocessing.train_news['Label'])\n",
    "#predicted_SGD_ngram=SGD_pipeline_ngram.predict(Data_preprocessing.test_news['Statement'])\n",
    "#np.mean(predicted_SGD_ngram==Data_preprocessing.test_news['Label'])"
   ]
  },
  {
   "cell_type": "code",
   "execution_count": 95,
   "metadata": {},
   "outputs": [
    {
     "data": {
      "text/plain": [
       "0.59662877303018425"
      ]
     },
     "execution_count": 95,
     "metadata": {},
     "output_type": "execute_result"
    }
   ],
   "source": [
    "#Building Random Foreset Classifier\n",
    "RF_pipeline_ngram=Pipeline([('RFvectorizer',Feature_selection.tfidf_ngram),\n",
    "                      ('RFclassifier',RandomForestClassifier(n_estimators=200,n_jobs=3))])\n",
    "#RF_pipeline_ngram.fit(Data_preprocessing.train_news['Statement'],Data_preprocessing.train_news['Label'])\n",
    "#predicted_RF_ngram=RF_pipeline_ngram.predict(Data_preprocessing.test_news['Statement'])\n",
    "#np.mean(predicted_RF_ngram==Data_preprocessing.test_news['Label'])"
   ]
  },
  {
   "cell_type": "code",
   "execution_count": 116,
   "metadata": {},
   "outputs": [
    {
     "name": "stdout",
     "output_type": "stream",
     "text": [
      "Total statements classified: 10240\n",
      "Score: 0.722405315984\n",
      "score length 5\n",
      "Confusion matrix:\n",
      "[[ 758 3730]\n",
      " [ 390 5362]]\n"
     ]
    },
    {
     "data": {
      "text/plain": [
       "(None, None, None, None, None)"
      ]
     },
     "execution_count": 116,
     "metadata": {},
     "output_type": "execute_result"
    }
   ],
   "source": [
    "#build_confusion_matrix(NB_pipeline_ngram,5)"
   ]
  },
  {
   "cell_type": "code",
   "execution_count": 110,
   "metadata": {
    "scrolled": true
   },
   "outputs": [
    {
     "name": "stdout",
     "output_type": "stream",
     "text": [
      "Total statements classified: 10240\n",
      "Score: 0.702698007278\n",
      "score length 6\n",
      "Confusion matrix:\n",
      "[[1584 2904]\n",
      " [1063 4689]]\n"
     ]
    },
    {
     "data": {
      "text/plain": [
       "(None, None, None, None, None)"
      ]
     },
     "execution_count": 110,
     "metadata": {},
     "output_type": "execute_result"
    }
   ],
   "source": [
    "#build_confusion_matrix(LR_pipeline_ngram,6)"
   ]
  },
  {
   "cell_type": "code",
   "execution_count": 121,
   "metadata": {},
   "outputs": [
    {
     "name": "stdout",
     "output_type": "stream",
     "text": [
      "Total statements classified: 10240\n",
      "Score: 0.679655893649\n",
      "score length 6\n",
      "Confusion matrix:\n",
      "[[2024 2464]\n",
      " [1523 4229]]\n"
     ]
    },
    {
     "data": {
      "text/plain": [
       "(None, None, None, None, None)"
      ]
     },
     "execution_count": 121,
     "metadata": {},
     "output_type": "execute_result"
    }
   ],
   "source": [
    "#build_confusion_matrix(SVM_pipeline_ngram,6)"
   ]
  },
  {
   "cell_type": "code",
   "execution_count": 122,
   "metadata": {},
   "outputs": [
    {
     "name": "stdout",
     "output_type": "stream",
     "text": [
      "Total statements classified: 10240\n",
      "Score: 0.719247218409\n",
      "score length 6\n",
      "Confusion matrix:\n",
      "[[   1 4487]\n",
      " [   1 5751]]\n"
     ]
    },
    {
     "data": {
      "text/plain": [
       "(None, None, None, None, None)"
      ]
     },
     "execution_count": 122,
     "metadata": {},
     "output_type": "execute_result"
    }
   ],
   "source": [
    "#build_confusion_matrix(SGD_pipeline_ngram,6)"
   ]
  },
  {
   "cell_type": "code",
   "execution_count": 123,
   "metadata": {},
   "outputs": [
    {
     "name": "stdout",
     "output_type": "stream",
     "text": [
      "Total statements classified: 10240\n",
      "Score: 0.658660060206\n",
      "score length 6\n",
      "Confusion matrix:\n",
      "[[2021 2467]\n",
      " [1715 4037]]\n"
     ]
    },
    {
     "data": {
      "text/plain": [
       "(None, None, None, None, None)"
      ]
     },
     "execution_count": 123,
     "metadata": {},
     "output_type": "execute_result"
    }
   ],
   "source": [
    "#build_confusion_matrix(RF_pipeline_ngram,6)"
   ]
  },
  {
   "cell_type": "code",
   "execution_count": 126,
   "metadata": {},
   "outputs": [
    {
     "name": "stdout",
     "output_type": "stream",
     "text": [
      "             precision    recall  f1-score   support\n",
      "\n",
      "      False       0.72      0.19      0.30      1169\n",
      "       True       0.58      0.94      0.71      1382\n",
      "\n",
      "avg / total       0.64      0.59      0.52      2551\n",
      "\n"
     ]
    }
   ],
   "source": [
    "#print(classification_report(Data_preprocessing.test_news['Label'], predicted_NB_ngram))"
   ]
  },
  {
   "cell_type": "code",
   "execution_count": 127,
   "metadata": {},
   "outputs": [
    {
     "name": "stdout",
     "output_type": "stream",
     "text": [
      "             precision    recall  f1-score   support\n",
      "\n",
      "      False       0.64      0.39      0.49      1169\n",
      "       True       0.61      0.81      0.70      1382\n",
      "\n",
      "avg / total       0.62      0.62      0.60      2551\n",
      "\n"
     ]
    }
   ],
   "source": [
    "#print(classification_report(Data_preprocessing.test_news['Label'], predicted_LR_ngram))"
   ]
  },
  {
   "cell_type": "code",
   "execution_count": 128,
   "metadata": {},
   "outputs": [
    {
     "name": "stdout",
     "output_type": "stream",
     "text": [
      "             precision    recall  f1-score   support\n",
      "\n",
      "      False       0.61      0.47      0.53      1169\n",
      "       True       0.62      0.74      0.68      1382\n",
      "\n",
      "avg / total       0.62      0.62      0.61      2551\n",
      "\n"
     ]
    }
   ],
   "source": [
    "#print(classification_report(Data_preprocessing.test_news['Label'], predicted_SVM_ngram))"
   ]
  },
  {
   "cell_type": "code",
   "execution_count": 132,
   "metadata": {
    "collapsed": true
   },
   "outputs": [],
   "source": [
    "#print(classification_report(Data_preprocessing.test_news['Label'], predicted_SGD_ngram))"
   ]
  },
  {
   "cell_type": "code",
   "execution_count": 133,
   "metadata": {},
   "outputs": [
    {
     "name": "stdout",
     "output_type": "stream",
     "text": [
      "             precision    recall  f1-score   support\n",
      "\n",
      "      False       0.57      0.47      0.52      1169\n",
      "       True       0.61      0.70      0.65      1382\n",
      "\n",
      "avg / total       0.59      0.60      0.59      2551\n",
      "\n"
     ]
    }
   ],
   "source": [
    "print(classification_report(Data_preprocessing.test_news['Label'], predicted_RF_ngram))"
   ]
  },
  {
   "cell_type": "code",
   "execution_count": 150,
   "metadata": {
    "collapsed": true
   },
   "outputs": [],
   "source": [
    "#Choose LR and SVM as candidate models\n",
    "#Find optimal parameters for LR\n",
    "LR_parameters = {'LR_tfidf__ngram_range': [(1,1),(1, 2),(1,3),(1,4),(1,5)],\n",
    "                 'LR_tfidf__use_idf': (True, False),\n",
    "                 'LR_tfidf__smooth_idf': (True, False)}\n",
    "LR_gop = GridSearchCV(LR_pipeline_ngram, parameters, n_jobs=-1)\n",
    "LR_gop = LR.gop.fit(Data_preprocessing.train_news['Statement'][:10000],Data_preprocessing.train_news['Label'][:10000])\n",
    "#LR_gop.best_score_\n",
    "#LR_gop.best_params_\n",
    "#LR_gop.cv_results_"
   ]
  },
  {
   "cell_type": "code",
   "execution_count": 151,
   "metadata": {
    "collapsed": true
   },
   "outputs": [],
   "source": [
    "#Find optimal parameters for SVM\n",
    "SVM_parameters = {'SVM_tfidf__ngram_range': [(1,1),(1,2),(1,3),(1,4),(1,5)],\n",
    "                  'SVM_tfidf__use_idf': (True, False),\n",
    "                  'SVM_tfidf__smooth_idf': (True, False),\n",
    "                  'SVM_clf__penalty': ('l1','l2'),}\n",
    "SVM_gop = GridSearchCV(SVM_pipeline_ngram, parameters, n_jobs=-1)\n",
    "SVM_gop= SVM_gop.fit(DataPrep.train_news['Statement'][:10000],DataPrep.train_news['Label'][:10000])\n",
    "#LR_gop.best_score_\n",
    "#LR_gop.best_params_\n",
    "#LR_gop.cv_results_"
   ]
  },
  {
   "cell_type": "code",
   "execution_count": 153,
   "metadata": {
    "collapsed": true
   },
   "outputs": [],
   "source": [
    "LR_pipeline_final = Pipeline([\n",
    "    ('LR_tfidf',TfidfVectorizer(stop_words='english',ngram_range=(1,5),use_idf=True,smooth_idf=False)),\n",
    "    ('LRclassifier',LogisticRegression(penalty=\"l2\",C=1))\n",
    "])"
   ]
  },
  {
   "cell_type": "code",
   "execution_count": 154,
   "metadata": {},
   "outputs": [
    {
     "data": {
      "text/plain": [
       "0.61779694237553895"
      ]
     },
     "execution_count": 154,
     "metadata": {},
     "output_type": "execute_result"
    }
   ],
   "source": [
    "#Testing Final Model\n",
    "LR_pipeline_final.fit(Data_preprocessing.train_news['Statement'],Data_preprocessing.train_news['Label'])\n",
    "predicted_LR_final = LR_pipeline_final.predict(Data_preprocessing.test_news['Statement'])\n",
    "np.mean(predicted_LR_final == Data_preprocessing.test_news['Label'])"
   ]
  },
  {
   "cell_type": "code",
   "execution_count": 157,
   "metadata": {},
   "outputs": [
    {
     "name": "stdout",
     "output_type": "stream",
     "text": [
      "             precision    recall  f1-score   support\n",
      "\n",
      "      False       0.64      0.38      0.48      1169\n",
      "       True       0.61      0.82      0.70      1382\n",
      "\n",
      "avg / total       0.62      0.62      0.60      2551\n",
      "\n"
     ]
    }
   ],
   "source": [
    "print(classification_report(Data_preprocessing.test_news['Label'], predicted_LR_final))"
   ]
  },
  {
   "cell_type": "code",
   "execution_count": 4,
   "metadata": {
    "collapsed": true
   },
   "outputs": [],
   "source": [
    "#Saving chosen model\n",
    "file = 'best_model.sav'\n",
    "pickle.dump(LR_pipeline_ngram,open(file,'wb'))"
   ]
  }
 ],
 "metadata": {
  "kernelspec": {
   "display_name": "Python 3",
   "language": "python",
   "name": "python3"
  },
  "language_info": {
   "codemirror_mode": {
    "name": "ipython",
    "version": 3
   },
   "file_extension": ".py",
   "mimetype": "text/x-python",
   "name": "python",
   "nbconvert_exporter": "python",
   "pygments_lexer": "ipython3",
   "version": "3.6.3"
  }
 },
 "nbformat": 4,
 "nbformat_minor": 2
}
